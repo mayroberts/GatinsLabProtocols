{
 "cells": [
  {
   "cell_type": "code",
   "execution_count": 1,
   "id": "38f58e04",
   "metadata": {},
   "outputs": [
    {
     "name": "stdout",
     "output_type": "stream",
     "text": [
      "How many samples?16\n",
      "Are you doing full reaction (1) or 1/3 (3)?3\n",
      "How many extra samples worth of components do you want?2\n"
     ]
    }
   ],
   "source": [
    "# inputs\n",
    "tubes = int(input(\"How many samples?\"))\n",
    "og_dna = 1 / float(input(\"Are you doing full reaction (1) or 1/3 (3)?\"))\n",
    "extra = int(input(\"How many extra samples worth of components do you want?\"))\n",
    "\n"
   ]
  },
  {
   "cell_type": "code",
   "execution_count": 2,
   "id": "57010273",
   "metadata": {},
   "outputs": [
    {
     "name": "stdout",
     "output_type": "stream",
     "text": [
      "Frag buffer: 29.999999999999996\n",
      "Frag enzyme: 59.99999999999999\n"
     ]
    }
   ],
   "source": [
    "frag_buffer = (5*og_dna) * (tubes + extra) \n",
    "frag_enzyme = (10*og_dna) * (tubes + extra)\n",
    "\n",
    "print(\"Frag buffer:\", frag_buffer)\n",
    "print(\"Frag enzyme:\", frag_enzyme)"
   ]
  }
 ],
 "metadata": {
  "kernelspec": {
   "display_name": "Python 3 (ipykernel)",
   "language": "python",
   "name": "python3"
  },
  "language_info": {
   "codemirror_mode": {
    "name": "ipython",
    "version": 3
   },
   "file_extension": ".py",
   "mimetype": "text/x-python",
   "name": "python",
   "nbconvert_exporter": "python",
   "pygments_lexer": "ipython3",
   "version": "3.8.12"
  }
 },
 "nbformat": 4,
 "nbformat_minor": 5
}
